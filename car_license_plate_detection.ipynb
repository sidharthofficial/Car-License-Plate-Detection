{
  "metadata": {
    "kernelspec": {
      "language": "python",
      "display_name": "Python 3",
      "name": "python3"
    },
    "language_info": {
      "name": "python",
      "version": "3.10.13",
      "mimetype": "text/x-python",
      "codemirror_mode": {
        "name": "ipython",
        "version": 3
      },
      "pygments_lexer": "ipython3",
      "nbconvert_exporter": "python",
      "file_extension": ".py"
    },
    "kaggle": {
      "accelerator": "nvidiaTeslaT4",
      "dataSources": [
        {
          "sourceId": 1203932,
          "sourceType": "datasetVersion",
          "datasetId": 686454
        }
      ],
      "dockerImageVersionId": 30733,
      "isInternetEnabled": true,
      "language": "python",
      "sourceType": "notebook",
      "isGpuEnabled": true
    },
    "colab": {
      "name": "car_license_plate_detection",
      "provenance": [],
      "include_colab_link": true
    }
  },
  "nbformat_minor": 0,
  "nbformat": 4,
  "cells": [
    {
      "cell_type": "markdown",
      "metadata": {
        "id": "view-in-github",
        "colab_type": "text"
      },
      "source": [
        "<a href=\"https://colab.research.google.com/github/sidharthofficial/Car-License-Plate-Detection/blob/main/car_license_plate_detection.ipynb\" target=\"_parent\"><img src=\"https://colab.research.google.com/assets/colab-badge.svg\" alt=\"Open In Colab\"/></a>"
      ]
    },
    {
      "source": [
        "\n",
        "# IMPORTANT: RUN THIS CELL IN ORDER TO IMPORT YOUR KAGGLE DATA SOURCES\n",
        "# TO THE CORRECT LOCATION (/kaggle/input) IN YOUR NOTEBOOK,\n",
        "# THEN FEEL FREE TO DELETE THIS CELL.\n",
        "# NOTE: THIS NOTEBOOK ENVIRONMENT DIFFERS FROM KAGGLE'S PYTHON\n",
        "# ENVIRONMENT SO THERE MAY BE MISSING LIBRARIES USED BY YOUR\n",
        "# NOTEBOOK.\n",
        "\n",
        "import os\n",
        "import sys\n",
        "from tempfile import NamedTemporaryFile\n",
        "from urllib.request import urlopen\n",
        "from urllib.parse import unquote, urlparse\n",
        "from urllib.error import HTTPError\n",
        "from zipfile import ZipFile\n",
        "import tarfile\n",
        "import shutil\n",
        "\n",
        "CHUNK_SIZE = 40960\n",
        "DATA_SOURCE_MAPPING = 'car-plate-detection:https%3A%2F%2Fstorage.googleapis.com%2Fkaggle-data-sets%2F686454%2F1203932%2Fbundle%2Farchive.zip%3FX-Goog-Algorithm%3DGOOG4-RSA-SHA256%26X-Goog-Credential%3Dgcp-kaggle-com%2540kaggle-161607.iam.gserviceaccount.com%252F20240606%252Fauto%252Fstorage%252Fgoog4_request%26X-Goog-Date%3D20240606T081320Z%26X-Goog-Expires%3D259200%26X-Goog-SignedHeaders%3Dhost%26X-Goog-Signature%3D670a09ed49343ee750fb335950b4494be4c0b02a6fb81301f84f489f4900b18db3a177b218de7d2c1ce73b02b79d5ba8f0784771205e8e10327369921bde3c435cdf64260c4deda757f26093c65d111ffdbcf900ff5d2d15fca73f06b7d45c12d335c9922d8b10a0ffbb1a089be6d0bf959097149f467601368ecd98a463163a8240aedc82131c680a14a19373d5b3bcf8ce0444c4981062a22fcd3f048a06cfed0a76d85755911fbeade6a6eec36ac43e98edf5d5b844bc6935c922d968847073a2519d329b5499886e8768d8d17915ce62621034c83409191a59ff047bcf1dd582a5bdd411260e49942564a153f8c515ca5b3bb65f82c8c53351e6b74fbc30'\n",
        "\n",
        "KAGGLE_INPUT_PATH='/kaggle/input'\n",
        "KAGGLE_WORKING_PATH='/kaggle/working'\n",
        "KAGGLE_SYMLINK='kaggle'\n",
        "\n",
        "!umount /kaggle/input/ 2> /dev/null\n",
        "shutil.rmtree('/kaggle/input', ignore_errors=True)\n",
        "os.makedirs(KAGGLE_INPUT_PATH, 0o777, exist_ok=True)\n",
        "os.makedirs(KAGGLE_WORKING_PATH, 0o777, exist_ok=True)\n",
        "\n",
        "try:\n",
        "  os.symlink(KAGGLE_INPUT_PATH, os.path.join(\"..\", 'input'), target_is_directory=True)\n",
        "except FileExistsError:\n",
        "  pass\n",
        "try:\n",
        "  os.symlink(KAGGLE_WORKING_PATH, os.path.join(\"..\", 'working'), target_is_directory=True)\n",
        "except FileExistsError:\n",
        "  pass\n",
        "\n",
        "for data_source_mapping in DATA_SOURCE_MAPPING.split(','):\n",
        "    directory, download_url_encoded = data_source_mapping.split(':')\n",
        "    download_url = unquote(download_url_encoded)\n",
        "    filename = urlparse(download_url).path\n",
        "    destination_path = os.path.join(KAGGLE_INPUT_PATH, directory)\n",
        "    try:\n",
        "        with urlopen(download_url) as fileres, NamedTemporaryFile() as tfile:\n",
        "            total_length = fileres.headers['content-length']\n",
        "            print(f'Downloading {directory}, {total_length} bytes compressed')\n",
        "            dl = 0\n",
        "            data = fileres.read(CHUNK_SIZE)\n",
        "            while len(data) > 0:\n",
        "                dl += len(data)\n",
        "                tfile.write(data)\n",
        "                done = int(50 * dl / int(total_length))\n",
        "                sys.stdout.write(f\"\\r[{'=' * done}{' ' * (50-done)}] {dl} bytes downloaded\")\n",
        "                sys.stdout.flush()\n",
        "                data = fileres.read(CHUNK_SIZE)\n",
        "            if filename.endswith('.zip'):\n",
        "              with ZipFile(tfile) as zfile:\n",
        "                zfile.extractall(destination_path)\n",
        "            else:\n",
        "              with tarfile.open(tfile.name) as tarfile:\n",
        "                tarfile.extractall(destination_path)\n",
        "            print(f'\\nDownloaded and uncompressed: {directory}')\n",
        "    except HTTPError as e:\n",
        "        print(f'Failed to load (likely expired) {download_url} to path {destination_path}')\n",
        "        continue\n",
        "    except OSError as e:\n",
        "        print(f'Failed to load {download_url} to path {destination_path}')\n",
        "        continue\n",
        "\n",
        "print('Data source import complete.')\n"
      ],
      "metadata": {
        "id": "RDdAx-sznBfI"
      },
      "cell_type": "code",
      "outputs": [],
      "execution_count": null
    },
    {
      "cell_type": "code",
      "source": [
        "# This Python 3 environment comes with many helpful analytics libraries installed\n",
        "# It is defined by the kaggle/python Docker image: https://github.com/kaggle/docker-python\n",
        "# For example, here's several helpful packages to load\n",
        "\n",
        "import numpy as np # linear algebra\n",
        "import pandas as pd # data processing, CSV file I/O (e.g. pd.read_csv)\n",
        "\n",
        "# Input data files are available in the read-only \"../input/\" directory\n",
        "# For example, running this (by clicking run or pressing Shift+Enter) will list all files under the input directory\n",
        "\n",
        "import os\n",
        "for dirname, _, filenames in os.walk('/kaggle/input'):\n",
        "    for filename in filenames:\n",
        "        print(os.path.join(dirname, filename))\n",
        "\n",
        "# You can write up to 20GB to the current directory (/kaggle/working/) that gets preserved as output when you create a version using \"Save & Run All\"\n",
        "# You can also write temporary files to /kaggle/temp/, but they won't be saved outside of the current session"
      ],
      "metadata": {
        "_uuid": "8f2839f25d086af736a60e9eeb907d3b93b6e0e5",
        "_cell_guid": "b1076dfc-b9ad-4769-8c92-a6c4dae69d19",
        "trusted": true,
        "id": "vVLaJ8rZnBfM"
      },
      "execution_count": null,
      "outputs": []
    },
    {
      "cell_type": "markdown",
      "source": [
        "# YOLO: A Brief History\n",
        "\n",
        "1. YOLO (You Only Look Once), a popular object detection and image segmentation model, was developed by Joseph Redmon and Ali Farhadi at the University of Washington. Launched in 2015, YOLO quickly gained popularity for its high speed and accuracy.\n",
        "\n",
        "2. YOLOv2, released in 2016, improved the original model by incorporating batch normalization, anchor boxes, and dimension clusters.\n",
        "\n",
        "3. YOLOv3, launched in 2018, further enhanced the model's performance using a more efficient backbone network, multiple anchors and spatial pyramid pooling.\n",
        "\n",
        "4. YOLOv4 was released in 2020, introducing innovations like Mosaic data augmentation, a new anchor-free detection head, and a new loss function.\n",
        "\n",
        "5. YOLOv5 further improved the model's performance and added new features such as hyperparameter optimization, integrated experiment tracking and automatic export to popular export formats.\n",
        "\n",
        "6. YOLOv6 was open-sourced by Meituan in 2022 and is in use in many of the company's autonomous delivery robots.\n",
        "\n",
        "7. YOLOv7 added additional tasks such as pose estimation on the COCO keypoints dataset.\n",
        "\n",
        "8. YOLOv8 is the latest version of YOLO by Ultralytics. As a cutting-edge, state-of-the-art (SOTA) model, YOLOv8 builds on the success of previous versions, introducing new features and improvements for enhanced performance, flexibility, and efficiency. YOLOv8 supports a full range of vision AI tasks, including detection, segmentation, pose estimation, tracking, and classification. This versatility allows users to leverage YOLOv8's capabilities across diverse applications and domains.\n",
        "\n",
        "9. YOLOv9 Introduces innovative methods like Programmable Gradient Information (PGI) and the Generalized Efficient Layer Aggregation Network (GELAN)."
      ],
      "metadata": {
        "id": "9-6TOiCKnBfM"
      }
    },
    {
      "cell_type": "code",
      "source": [
        "# import all necessary functions\n",
        "import os\n",
        "import cv2\n",
        "import shutil\n",
        "import numpy as np\n",
        "import pandas as pd\n",
        "from glob import glob\n",
        "import matplotlib.pyplot as plt\n",
        "import xml.etree.ElementTree as xet\n",
        "from sklearn.model_selection import train_test_split"
      ],
      "metadata": {
        "execution": {
          "iopub.status.busy": "2024-06-06T07:26:03.124625Z",
          "iopub.execute_input": "2024-06-06T07:26:03.125186Z",
          "iopub.status.idle": "2024-06-06T07:26:05.27772Z",
          "shell.execute_reply.started": "2024-06-06T07:26:03.125153Z",
          "shell.execute_reply": "2024-06-06T07:26:05.276785Z"
        },
        "trusted": true,
        "id": "LM7tl05enBfN"
      },
      "execution_count": null,
      "outputs": []
    },
    {
      "cell_type": "code",
      "source": [
        "# check if CUDA GPU is available\n",
        "import torch\n",
        "\n",
        "print(f'{torch.cuda.is_available() = }')\n",
        "print(f'{torch.cuda.device_count() = }')"
      ],
      "metadata": {
        "execution": {
          "iopub.status.busy": "2024-06-06T07:26:30.117796Z",
          "iopub.execute_input": "2024-06-06T07:26:30.118534Z",
          "iopub.status.idle": "2024-06-06T07:26:33.237415Z",
          "shell.execute_reply.started": "2024-06-06T07:26:30.118496Z",
          "shell.execute_reply": "2024-06-06T07:26:33.236405Z"
        },
        "trusted": true,
        "id": "qL8LOeDbnBfN"
      },
      "execution_count": null,
      "outputs": []
    },
    {
      "cell_type": "code",
      "source": [
        "!pip install ultralytics"
      ],
      "metadata": {
        "execution": {
          "iopub.status.busy": "2024-06-06T07:26:59.209951Z",
          "iopub.execute_input": "2024-06-06T07:26:59.21048Z",
          "iopub.status.idle": "2024-06-06T07:27:13.592725Z",
          "shell.execute_reply.started": "2024-06-06T07:26:59.210442Z",
          "shell.execute_reply": "2024-06-06T07:27:13.591728Z"
        },
        "trusted": true,
        "id": "GveWCprInBfO"
      },
      "execution_count": null,
      "outputs": []
    },
    {
      "cell_type": "code",
      "source": [
        "!pip install -U ipywidgets"
      ],
      "metadata": {
        "execution": {
          "iopub.status.busy": "2024-06-06T07:27:13.594432Z",
          "iopub.execute_input": "2024-06-06T07:27:13.594719Z",
          "iopub.status.idle": "2024-06-06T07:27:27.210829Z",
          "shell.execute_reply.started": "2024-06-06T07:27:13.594694Z",
          "shell.execute_reply": "2024-06-06T07:27:27.209615Z"
        },
        "trusted": true,
        "id": "kNcpR1WgnBfO"
      },
      "execution_count": null,
      "outputs": []
    },
    {
      "cell_type": "code",
      "source": [
        "dataset_path = '/kaggle/input/car-plate-detection'"
      ],
      "metadata": {
        "execution": {
          "iopub.status.busy": "2024-06-06T07:27:41.128562Z",
          "iopub.execute_input": "2024-06-06T07:27:41.128931Z",
          "iopub.status.idle": "2024-06-06T07:27:41.133808Z",
          "shell.execute_reply.started": "2024-06-06T07:27:41.128902Z",
          "shell.execute_reply": "2024-06-06T07:27:41.132641Z"
        },
        "trusted": true,
        "id": "rCgUybQLnBfO"
      },
      "execution_count": null,
      "outputs": []
    },
    {
      "cell_type": "code",
      "source": [
        "import re\n",
        "\n",
        "def the_number_in_the_string(filename):\n",
        "    \"\"\"\n",
        "    Extracts the first sequence of digits from the given filename string and returns it as an integer.\n",
        "    If no digits are found, returns 0.\n",
        "\n",
        "    Parameters:\n",
        "    filename (str): The input string to search for digits.\n",
        "\n",
        "    Returns:\n",
        "    int: The first sequence of digits found in the input string, or 0 if no digits are found.\n",
        "    \"\"\"\n",
        "    # Search for the first occurrence of one or more digits in the filename\n",
        "    match = re.search(r'(\\d+)', filename)\n",
        "\n",
        "    # If a match is found, return the matched number as an integer\n",
        "    if match:\n",
        "        return int(match.group(0))\n",
        "    # If no match is found, return 0\n",
        "    else:\n",
        "        return 0\n",
        "\n",
        "# Example usage\n",
        "print(the_number_in_the_string(\"file123.txt\"))  # Output: 123\n",
        "print(the_number_in_the_string(\"no_numbers_here\"))  # Output: 0"
      ],
      "metadata": {
        "execution": {
          "iopub.status.busy": "2024-06-06T07:28:13.396403Z",
          "iopub.execute_input": "2024-06-06T07:28:13.396761Z",
          "iopub.status.idle": "2024-06-06T07:28:13.404225Z",
          "shell.execute_reply.started": "2024-06-06T07:28:13.396731Z",
          "shell.execute_reply": "2024-06-06T07:28:13.403361Z"
        },
        "trusted": true,
        "id": "woX-yIAfnBfP"
      },
      "execution_count": null,
      "outputs": []
    },
    {
      "cell_type": "markdown",
      "source": [
        "# Formatting XML file and creating pandas DF"
      ],
      "metadata": {
        "id": "tgLoK2bLnBfP"
      }
    },
    {
      "cell_type": "code",
      "source": [
        "import os\n",
        "import cv2\n",
        "import pandas as pd\n",
        "import xml.etree.ElementTree as xet\n",
        "from glob import glob\n",
        "\n",
        "# Initialize a dictionary to store labels and image information\n",
        "labels_dict = dict(\n",
        "    img_path=[],\n",
        "    xmin=[],\n",
        "    xmax=[],\n",
        "    ymin=[],\n",
        "    ymax=[],\n",
        "    img_w=[],\n",
        "    img_h=[]\n",
        ")\n",
        "\n",
        "# Get the list of XML files from the annotations directory\n",
        "xml_files = glob(f'{dataset_path}/annotations/*.xml')\n",
        "\n",
        "# Process each XML file, sorted by the numerical value in the filename\n",
        "for filename in sorted(xml_files, key=the_number_in_the_string):\n",
        "    # Parse the XML file\n",
        "    info = xet.parse(filename)\n",
        "    root = info.getroot()\n",
        "\n",
        "    # Find the 'object' element in the XML and extract bounding box information\n",
        "    member_object = root.find('object')\n",
        "    labels_info = member_object.find('bndbox')\n",
        "    xmin = int(labels_info.find('xmin').text)\n",
        "    xmax = int(labels_info.find('xmax').text)\n",
        "    ymin = int(labels_info.find('ymin').text)\n",
        "    ymax = int(labels_info.find('ymax').text)\n",
        "\n",
        "    # Get the image filename and construct the full path to the image\n",
        "    img_name = root.find('filename').text\n",
        "    img_path = os.path.join(dataset_path, 'images', img_name)\n",
        "\n",
        "    # Append the extracted information to the respective lists in the dictionary\n",
        "    labels_dict['img_path'].append(img_path)\n",
        "    labels_dict['xmin'].append(xmin)\n",
        "    labels_dict['xmax'].append(xmax)\n",
        "    labels_dict['ymin'].append(ymin)\n",
        "    labels_dict['ymax'].append(ymax)\n",
        "\n",
        "    # Read the image to get its dimensions\n",
        "    height, width, _ = cv2.imread(img_path).shape\n",
        "    labels_dict['img_w'].append(width)\n",
        "    labels_dict['img_h'].append(height)\n",
        "\n",
        "# Convert the dictionary to a pandas DataFrame\n",
        "alldata = pd.DataFrame(labels_dict)\n",
        "\n",
        "# Display the DataFrame\n",
        "alldata"
      ],
      "metadata": {
        "execution": {
          "iopub.status.busy": "2024-06-06T07:29:10.953347Z",
          "iopub.execute_input": "2024-06-06T07:29:10.954304Z",
          "iopub.status.idle": "2024-06-06T07:29:20.880067Z",
          "shell.execute_reply.started": "2024-06-06T07:29:10.954263Z",
          "shell.execute_reply": "2024-06-06T07:29:20.879142Z"
        },
        "trusted": true,
        "id": "IXzwVVGsnBfP"
      },
      "execution_count": null,
      "outputs": []
    },
    {
      "cell_type": "code",
      "source": [
        "from sklearn.model_selection import train_test_split\n",
        "\n",
        "# Split the data into training and test sets\n",
        "# Use 10% of the data for the test set\n",
        "train, test = train_test_split(alldata, test_size=1/10, random_state=42)\n",
        "\n",
        "# Split the training data further into training and validation sets\n",
        "# Use 8/9 of the remaining data for the training set, resulting in an 80/10/10 split overall\n",
        "train, val = train_test_split(train, train_size=8/9, random_state=42)\n",
        "\n",
        "# Print the number of samples in each set\n",
        "print(f'''\n",
        "      len(train) = {len(train)}\n",
        "      len(val) = {len(val)}\n",
        "      len(test) = {len(test)}\n",
        "''')\n"
      ],
      "metadata": {
        "execution": {
          "iopub.status.busy": "2024-06-06T07:29:32.302989Z",
          "iopub.execute_input": "2024-06-06T07:29:32.303831Z",
          "iopub.status.idle": "2024-06-06T07:29:32.31493Z",
          "shell.execute_reply.started": "2024-06-06T07:29:32.303797Z",
          "shell.execute_reply": "2024-06-06T07:29:32.313892Z"
        },
        "trusted": true,
        "id": "kLs_f7IbnBfP"
      },
      "execution_count": null,
      "outputs": []
    },
    {
      "cell_type": "code",
      "source": [
        "import os\n",
        "import shutil\n",
        "import pandas as pd\n",
        "\n",
        "# Remove the 'datasets' directory if it exists\n",
        "if os.path.exists('datasets'):\n",
        "    shutil.rmtree('datasets')"
      ],
      "metadata": {
        "execution": {
          "iopub.status.busy": "2024-06-06T07:29:41.107582Z",
          "iopub.execute_input": "2024-06-06T07:29:41.108174Z",
          "iopub.status.idle": "2024-06-06T07:29:41.112661Z",
          "shell.execute_reply.started": "2024-06-06T07:29:41.108144Z",
          "shell.execute_reply": "2024-06-06T07:29:41.11175Z"
        },
        "trusted": true,
        "id": "E89JfYZPnBfP"
      },
      "execution_count": null,
      "outputs": []
    },
    {
      "cell_type": "code",
      "source": [
        "train"
      ],
      "metadata": {
        "execution": {
          "iopub.status.busy": "2024-06-06T07:29:48.480172Z",
          "iopub.execute_input": "2024-06-06T07:29:48.480994Z",
          "iopub.status.idle": "2024-06-06T07:29:48.494906Z",
          "shell.execute_reply.started": "2024-06-06T07:29:48.48096Z",
          "shell.execute_reply": "2024-06-06T07:29:48.493777Z"
        },
        "trusted": true,
        "id": "_HdyefJXnBfQ"
      },
      "execution_count": null,
      "outputs": []
    },
    {
      "cell_type": "code",
      "source": [
        "def make_split_folder_in_yolo_format(split_name, split_df):\n",
        "    \"\"\"\n",
        "    Creates a folder structure for a dataset split (train/val/test) in YOLO format.\n",
        "\n",
        "    Parameters:\n",
        "    split_name (str): The name of the split (e.g., 'train', 'val', 'test').\n",
        "    split_df (pd.DataFrame): The DataFrame containing the data for the split.\n",
        "\n",
        "    The function will create 'labels' and 'images' subdirectories under 'datasets/cars_license_plate/{split_name}',\n",
        "    and save the corresponding labels and images in YOLO format.\n",
        "    \"\"\"\n",
        "    labels_path = os.path.join('datasets', 'cars_license_plate_new', split_name, 'labels')\n",
        "    images_path = os.path.join('datasets', 'cars_license_plate_new', split_name, 'images')\n",
        "\n",
        "    # Create directories for labels and images\n",
        "    os.makedirs(labels_path)\n",
        "    os.makedirs(images_path)\n",
        "\n",
        "    # Iterate over each row in the DataFrame\n",
        "    for _, row in split_df.iterrows():\n",
        "        img_name, img_extension = os.path.splitext(os.path.basename(row['img_path']))\n",
        "\n",
        "        # Calculate YOLO format bounding box coordinates\n",
        "        x_center = (row['xmin'] + row['xmax']) / 2 / row['img_w']\n",
        "        y_center = (row['ymin'] + row['ymax']) / 2 / row['img_h']\n",
        "        width = (row['xmax'] - row['xmin']) / row['img_w']\n",
        "        height = (row['ymax'] - row['ymin']) / row['img_h']\n",
        "\n",
        "        # Save the label in YOLO format\n",
        "        label_path = os.path.join(labels_path, f'{img_name}.txt')\n",
        "        with open(label_path, 'w') as file:\n",
        "            file.write(f\"0 {x_center:.4f} {y_center:.4f} {width:.4f} {height:.4f}\\n\")\n",
        "\n",
        "        # Copy the image to the images directory\n",
        "        shutil.copy(row['img_path'], os.path.join(images_path, img_name + img_extension))\n",
        "\n",
        "    print(f\"Created '{images_path}' and '{labels_path}'\")"
      ],
      "metadata": {
        "execution": {
          "iopub.status.busy": "2024-06-06T07:30:11.422019Z",
          "iopub.execute_input": "2024-06-06T07:30:11.422653Z",
          "iopub.status.idle": "2024-06-06T07:30:11.432368Z",
          "shell.execute_reply.started": "2024-06-06T07:30:11.422619Z",
          "shell.execute_reply": "2024-06-06T07:30:11.431385Z"
        },
        "trusted": true,
        "id": "RosSKK2znBfQ"
      },
      "execution_count": null,
      "outputs": []
    },
    {
      "cell_type": "code",
      "source": [
        "# Create YOLO format folders for train, validation, and test splits\n",
        "make_split_folder_in_yolo_format(\"train\", train)\n",
        "make_split_folder_in_yolo_format(\"val\", val)\n",
        "make_split_folder_in_yolo_format(\"test\", test)"
      ],
      "metadata": {
        "execution": {
          "iopub.status.busy": "2024-06-06T07:30:22.201656Z",
          "iopub.execute_input": "2024-06-06T07:30:22.202482Z",
          "iopub.status.idle": "2024-06-06T07:30:22.964449Z",
          "shell.execute_reply.started": "2024-06-06T07:30:22.202442Z",
          "shell.execute_reply": "2024-06-06T07:30:22.963373Z"
        },
        "trusted": true,
        "id": "7purhsqxnBfQ"
      },
      "execution_count": null,
      "outputs": []
    },
    {
      "cell_type": "code",
      "source": [
        "os.getcwd()"
      ],
      "metadata": {
        "execution": {
          "iopub.status.busy": "2024-06-06T07:30:29.232073Z",
          "iopub.execute_input": "2024-06-06T07:30:29.23264Z",
          "iopub.status.idle": "2024-06-06T07:30:29.239319Z",
          "shell.execute_reply.started": "2024-06-06T07:30:29.232597Z",
          "shell.execute_reply": "2024-06-06T07:30:29.238283Z"
        },
        "trusted": true,
        "id": "pgEyaZEtnBfQ"
      },
      "execution_count": null,
      "outputs": []
    },
    {
      "cell_type": "code",
      "source": [
        "import os\n",
        "import cv2\n",
        "import matplotlib.pyplot as plt\n",
        "\n",
        "# Directory paths\n",
        "image_dir = 'datasets/cars_license_plate_new/train/images'\n",
        "label_dir = 'datasets/cars_license_plate_new/train/labels'\n",
        "\n",
        "# Get the first image file\n",
        "image_files = sorted(os.listdir(image_dir))\n",
        "first_image_file = image_files[0]\n",
        "\n",
        "# Construct paths for the image and its corresponding label\n",
        "image_path = os.path.join(image_dir, first_image_file)\n",
        "label_path = os.path.join(label_dir, os.path.splitext(first_image_file)[0] + '.txt')\n",
        "\n",
        "# Load the image using OpenCV\n",
        "image = cv2.imread(image_path)\n",
        "# Convert the image from BGR (OpenCV default) to RGB (matplotlib default)\n",
        "image = cv2.cvtColor(image, cv2.COLOR_BGR2RGB)\n",
        "\n",
        "# Read the label file to get bounding box information\n",
        "with open(label_path, 'r') as f:\n",
        "    lines = f.readlines()\n",
        "\n",
        "# Plot the bounding box on the image\n",
        "for line in lines:\n",
        "    # Parse the label file line to extract bounding box information\n",
        "    class_id, x_center, y_center, width, height = map(float, line.strip().split())\n",
        "    img_height, img_width, _ = image.shape\n",
        "\n",
        "    # Convert YOLO format to bounding box format\n",
        "    x_center *= img_width\n",
        "    y_center *= img_height\n",
        "    width *= img_width\n",
        "    height *= img_height\n",
        "\n",
        "    # Calculate the top-left and bottom-right coordinates of the bounding box\n",
        "    x1 = int(x_center - width / 2)\n",
        "    y1 = int(y_center - height / 2)\n",
        "    x2 = int(x_center + width / 2)\n",
        "    y2 = int(y_center + height / 2)\n",
        "\n",
        "    # Draw the bounding box on the image using a green rectangle\n",
        "    cv2.rectangle(image, (x1, y1), (x2, y2), (0, 255, 0), 2)\n",
        "\n",
        "# Display the image with bounding box using matplotlib\n",
        "plt.imshow(image)\n",
        "plt.axis('off')  # Hide the axis\n",
        "plt.show()  # Display the image"
      ],
      "metadata": {
        "execution": {
          "iopub.status.busy": "2024-06-06T07:30:56.410742Z",
          "iopub.execute_input": "2024-06-06T07:30:56.411113Z",
          "iopub.status.idle": "2024-06-06T07:30:56.70515Z",
          "shell.execute_reply.started": "2024-06-06T07:30:56.411083Z",
          "shell.execute_reply": "2024-06-06T07:30:56.70423Z"
        },
        "trusted": true,
        "id": "66Iiw8YJnBfQ"
      },
      "execution_count": null,
      "outputs": []
    },
    {
      "cell_type": "code",
      "source": [
        "# Define the content of the datasets.yaml file\n",
        "datasets_yaml = '''\n",
        "path: cars_license_plate_new\n",
        "\n",
        "train: train/images\n",
        "val: val/images\n",
        "test: test/images\n",
        "\n",
        "# number of classes\n",
        "nc: 1\n",
        "\n",
        "# class names\n",
        "names: ['license_plate']\n",
        "'''\n",
        "\n",
        "# Write the content to the datasets.yaml file\n",
        "with open('datasets.yaml', 'w') as file:\n",
        "    file.write(datasets_yaml)"
      ],
      "metadata": {
        "execution": {
          "iopub.status.busy": "2024-06-06T07:31:15.465298Z",
          "iopub.execute_input": "2024-06-06T07:31:15.465705Z",
          "iopub.status.idle": "2024-06-06T07:31:15.47119Z",
          "shell.execute_reply.started": "2024-06-06T07:31:15.465673Z",
          "shell.execute_reply": "2024-06-06T07:31:15.470155Z"
        },
        "trusted": true,
        "id": "QP4FI2lanBfQ"
      },
      "execution_count": null,
      "outputs": []
    },
    {
      "cell_type": "code",
      "source": [
        "from ultralytics import YOLO\n",
        "model = YOLO('yolov8n.pt')"
      ],
      "metadata": {
        "execution": {
          "iopub.status.busy": "2024-06-06T07:31:23.165612Z",
          "iopub.execute_input": "2024-06-06T07:31:23.166203Z",
          "iopub.status.idle": "2024-06-06T07:31:24.109743Z",
          "shell.execute_reply.started": "2024-06-06T07:31:23.16617Z",
          "shell.execute_reply": "2024-06-06T07:31:24.108652Z"
        },
        "trusted": true,
        "id": "NlLltyO0nBfQ"
      },
      "execution_count": null,
      "outputs": []
    },
    {
      "cell_type": "code",
      "source": [
        "model.train(\n",
        "    data='datasets.yaml',  # Path to the dataset configuration file\n",
        "    epochs=100,            # Number of training epochs\n",
        "    batch=16,              # Batch size\n",
        "    device='cuda',         # Use GPU for training\n",
        "    imgsz=320,             # Image size (width and height) for training\n",
        "    cache=True             # Cache images for faster training\n",
        ")"
      ],
      "metadata": {
        "execution": {
          "iopub.status.busy": "2024-06-06T07:31:32.031545Z",
          "iopub.execute_input": "2024-06-06T07:31:32.032138Z",
          "iopub.status.idle": "2024-06-06T07:40:34.68326Z",
          "shell.execute_reply.started": "2024-06-06T07:31:32.032105Z",
          "shell.execute_reply": "2024-06-06T07:40:34.682152Z"
        },
        "trusted": true,
        "id": "QVUWh6sInBfQ"
      },
      "execution_count": null,
      "outputs": []
    },
    {
      "cell_type": "code",
      "source": [
        "import os\n",
        "import pandas as pd\n",
        "import matplotlib.pyplot as plt\n",
        "from glob import glob\n",
        "\n",
        "\n",
        "# Find the most recent training log directory\n",
        "log_dir = max(glob('runs/detect/train*'), key=the_number_in_the_string)\n",
        "\n",
        "# Load the training results from the CSV file\n",
        "results = pd.read_csv(os.path.join(log_dir, 'results.csv'))\n",
        "results.columns = results.columns.str.strip()  # Remove any leading/trailing whitespace from column names\n",
        "\n",
        "# Extract epochs and accuracy metrics\n",
        "epochs = results.index + 1  # Epochs are zero-indexed, so add 1\n",
        "mAP_0_5 = results['metrics/mAP50(B)']  # Mean Average Precision at IoU=0.5\n",
        "mAP_0_5_0_95 = results['metrics/mAP50-95(B)']  # Mean Average Precision at IoU=0.5:0.95\n",
        "\n",
        "# Plot the accuracy over epochs\n",
        "plt.figure(figsize=(10, 5))\n",
        "plt.plot(epochs, mAP_0_5, label='mAP@0.5')\n",
        "plt.plot(epochs, mAP_0_5_0_95, label='mAP@0.5:0.95')\n",
        "plt.xlabel('Epoch')\n",
        "plt.ylabel('Accuracy')\n",
        "plt.title('Accuracy Over Epochs')\n",
        "plt.legend()\n",
        "plt.grid(True)\n",
        "plt.show()"
      ],
      "metadata": {
        "execution": {
          "iopub.status.busy": "2024-06-06T07:40:34.724717Z",
          "iopub.execute_input": "2024-06-06T07:40:34.725289Z",
          "iopub.status.idle": "2024-06-06T07:40:35.015285Z",
          "shell.execute_reply.started": "2024-06-06T07:40:34.725254Z",
          "shell.execute_reply": "2024-06-06T07:40:35.014588Z"
        },
        "trusted": true,
        "id": "iDAqGhnYnBfR"
      },
      "execution_count": null,
      "outputs": []
    },
    {
      "cell_type": "code",
      "source": [
        "# Save the trained model\n",
        "model.save('best_license_plate_model.pt')"
      ],
      "metadata": {
        "execution": {
          "iopub.status.busy": "2024-06-06T07:40:35.0162Z",
          "iopub.execute_input": "2024-06-06T07:40:35.016479Z",
          "iopub.status.idle": "2024-06-06T07:40:35.236452Z",
          "shell.execute_reply.started": "2024-06-06T07:40:35.016445Z",
          "shell.execute_reply": "2024-06-06T07:40:35.235555Z"
        },
        "trusted": true,
        "id": "POZj27lrnBfR"
      },
      "execution_count": null,
      "outputs": []
    },
    {
      "cell_type": "code",
      "source": [
        "import cv2\n",
        "import matplotlib.pyplot as plt\n",
        "from ultralytics import YOLO\n",
        "\n",
        "\n",
        "def predict_and_plot(path_test_car):\n",
        "    \"\"\"\n",
        "    Predicts and plots the bounding boxes on the given test image using the trained YOLO model.\n",
        "\n",
        "    Parameters:\n",
        "    path_test_car (str): Path to the test image file.\n",
        "    \"\"\"\n",
        "    # Perform prediction on the test image using the model\n",
        "    results = model.predict(path_test_car, device='cpu')\n",
        "\n",
        "    # Load the image using OpenCV\n",
        "    image = cv2.imread(path_test_car)\n",
        "    # Convert the image from BGR (OpenCV default) to RGB (matplotlib default)\n",
        "    image = cv2.cvtColor(image, cv2.COLOR_BGR2RGB)\n",
        "\n",
        "    # Extract the bounding boxes and labels from the results\n",
        "    for result in results:\n",
        "        for box in result.boxes:\n",
        "            # Get the coordinates of the bounding box\n",
        "            x1, y1, x2, y2 = map(int, box.xyxy[0])\n",
        "            # Get the confidence score of the prediction\n",
        "            confidence = box.conf[0]\n",
        "\n",
        "            # Draw the bounding box on the image\n",
        "            cv2.rectangle(image, (x1, y1), (x2, y2), (0, 255, 0), 2)\n",
        "            # Draw the confidence score near the bounding box\n",
        "            cv2.putText(image, f'{confidence*100:.2f}%', (x1, y1 - 10),\n",
        "                        cv2.FONT_HERSHEY_SIMPLEX, 0.9, (255, 0, 0), 2)\n",
        "\n",
        "    # Plot the image with bounding boxes\n",
        "    plt.imshow(image)\n",
        "    plt.axis('off')  # Hide the axis\n",
        "    plt.show()  # Display the image"
      ],
      "metadata": {
        "execution": {
          "iopub.status.busy": "2024-06-06T07:40:35.23853Z",
          "iopub.execute_input": "2024-06-06T07:40:35.238807Z",
          "iopub.status.idle": "2024-06-06T07:40:35.247381Z",
          "shell.execute_reply.started": "2024-06-06T07:40:35.238783Z",
          "shell.execute_reply": "2024-06-06T07:40:35.246528Z"
        },
        "trusted": true,
        "id": "Nt-H74cinBfR"
      },
      "execution_count": null,
      "outputs": []
    },
    {
      "cell_type": "code",
      "source": [
        "predict_and_plot(test.iloc[0].img_path)"
      ],
      "metadata": {
        "execution": {
          "iopub.status.busy": "2024-06-06T07:40:35.24843Z",
          "iopub.execute_input": "2024-06-06T07:40:35.248717Z",
          "iopub.status.idle": "2024-06-06T07:40:36.74911Z",
          "shell.execute_reply.started": "2024-06-06T07:40:35.248691Z",
          "shell.execute_reply": "2024-06-06T07:40:36.748246Z"
        },
        "trusted": true,
        "id": "L4UzWQb2nBfR"
      },
      "execution_count": null,
      "outputs": []
    },
    {
      "cell_type": "code",
      "source": [
        "predict_and_plot(test.iloc[1].img_path)"
      ],
      "metadata": {
        "execution": {
          "iopub.status.busy": "2024-06-06T07:40:36.75044Z",
          "iopub.execute_input": "2024-06-06T07:40:36.751361Z",
          "iopub.status.idle": "2024-06-06T07:40:37.058039Z",
          "shell.execute_reply.started": "2024-06-06T07:40:36.751304Z",
          "shell.execute_reply": "2024-06-06T07:40:37.057191Z"
        },
        "trusted": true,
        "id": "cO9eYZONnBfR"
      },
      "execution_count": null,
      "outputs": []
    },
    {
      "cell_type": "code",
      "source": [
        "predict_and_plot(test.iloc[2].img_path)"
      ],
      "metadata": {
        "execution": {
          "iopub.status.busy": "2024-06-06T07:40:37.059279Z",
          "iopub.execute_input": "2024-06-06T07:40:37.059627Z",
          "iopub.status.idle": "2024-06-06T07:40:37.232962Z",
          "shell.execute_reply.started": "2024-06-06T07:40:37.059596Z",
          "shell.execute_reply": "2024-06-06T07:40:37.231791Z"
        },
        "trusted": true,
        "id": "tS7I_Op2nBfR"
      },
      "execution_count": null,
      "outputs": []
    },
    {
      "cell_type": "markdown",
      "source": [
        "# Implementing Text Extraction (OCR) via PyTorch"
      ],
      "metadata": {
        "execution": {
          "iopub.status.busy": "2024-06-06T07:40:37.234787Z",
          "iopub.execute_input": "2024-06-06T07:40:37.235962Z",
          "iopub.status.idle": "2024-06-06T07:40:37.24052Z",
          "shell.execute_reply.started": "2024-06-06T07:40:37.235912Z",
          "shell.execute_reply": "2024-06-06T07:40:37.239363Z"
        },
        "id": "pcIaaB_UnBfR"
      }
    },
    {
      "cell_type": "code",
      "source": [
        "!pip3 install pytesseract"
      ],
      "metadata": {
        "execution": {
          "iopub.status.busy": "2024-06-06T07:40:37.242323Z",
          "iopub.execute_input": "2024-06-06T07:40:37.243434Z",
          "iopub.status.idle": "2024-06-06T07:40:49.452729Z",
          "shell.execute_reply.started": "2024-06-06T07:40:37.243387Z",
          "shell.execute_reply": "2024-06-06T07:40:49.451321Z"
        },
        "trusted": true,
        "id": "dccwOZrvnBfR"
      },
      "execution_count": null,
      "outputs": []
    },
    {
      "cell_type": "code",
      "source": [
        "import pytesseract\n",
        "from pytesseract import Output"
      ],
      "metadata": {
        "execution": {
          "iopub.status.busy": "2024-06-06T07:40:49.456573Z",
          "iopub.execute_input": "2024-06-06T07:40:49.456943Z",
          "iopub.status.idle": "2024-06-06T07:40:49.466387Z",
          "shell.execute_reply.started": "2024-06-06T07:40:49.456909Z",
          "shell.execute_reply": "2024-06-06T07:40:49.465395Z"
        },
        "trusted": true,
        "id": "olnr-96hnBfR"
      },
      "execution_count": null,
      "outputs": []
    },
    {
      "cell_type": "code",
      "source": [
        "import cv2\n",
        "import matplotlib.pyplot as plt\n",
        "from ultralytics import YOLO\n",
        "import pytesseract\n",
        "from pytesseract import Output\n",
        "\n",
        "\n",
        "def predict_and_plot(path_test_car):\n",
        "    \"\"\"\n",
        "    Predicts and plots the bounding boxes on the given test image using the trained YOLO model.\n",
        "    Also performs OCR on the detected bounding boxes to extract text.\n",
        "\n",
        "    Parameters:\n",
        "    path_test_car (str): Path to the test image file.\n",
        "    \"\"\"\n",
        "    # Perform prediction on the test image using the model\n",
        "    results = model.predict(path_test_car, device='cpu')\n",
        "\n",
        "    # Load the image using OpenCV\n",
        "    image = cv2.imread(path_test_car)\n",
        "    # Convert the image from BGR (OpenCV default) to RGB (matplotlib default)\n",
        "    image = cv2.cvtColor(image, cv2.COLOR_BGR2RGB)\n",
        "\n",
        "    # Extract the bounding boxes and labels from the results\n",
        "    for result in results:\n",
        "        for box in result.boxes:\n",
        "            # Get the coordinates of the bounding box\n",
        "            x1, y1, x2, y2 = map(int, box.xyxy[0])\n",
        "            # Get the confidence score of the prediction\n",
        "            confidence = box.conf[0]\n",
        "\n",
        "            # Draw the bounding box on the image\n",
        "            cv2.rectangle(image, (x1, y1), (x2, y2), (0, 255, 0), 2)\n",
        "            # Draw the confidence score near the bounding box\n",
        "            cv2.putText(image, f'{confidence*100:.2f}%', (x1, y1 - 10),\n",
        "                        cv2.FONT_HERSHEY_SIMPLEX, 0.9, (255, 0, 0), 2)\n",
        "\n",
        "            # Crop the bounding box from the image for OCR\n",
        "            roi = image[y1:y2, x1:x2]\n",
        "\n",
        "            # Perform OCR on the cropped image\n",
        "            text = pytesseract.image_to_string(roi, config='--psm 6')\n",
        "            print(f\"Detected text: {text}\")\n",
        "\n",
        "    # Plot the image with bounding boxes\n",
        "    plt.imshow(image)\n",
        "    plt.axis('off')  # Hide the axis\n",
        "    plt.show()  # Display the image"
      ],
      "metadata": {
        "execution": {
          "iopub.status.busy": "2024-06-06T07:40:49.467784Z",
          "iopub.execute_input": "2024-06-06T07:40:49.468079Z",
          "iopub.status.idle": "2024-06-06T07:40:49.487395Z",
          "shell.execute_reply.started": "2024-06-06T07:40:49.468052Z",
          "shell.execute_reply": "2024-06-06T07:40:49.486188Z"
        },
        "trusted": true,
        "id": "M0V7EDBjnBfR"
      },
      "execution_count": null,
      "outputs": []
    },
    {
      "cell_type": "code",
      "source": [
        "predict_and_plot(test.iloc[0].img_path)"
      ],
      "metadata": {
        "execution": {
          "iopub.status.busy": "2024-06-06T07:40:49.489Z",
          "iopub.execute_input": "2024-06-06T07:40:49.489447Z",
          "iopub.status.idle": "2024-06-06T07:40:49.945016Z",
          "shell.execute_reply.started": "2024-06-06T07:40:49.489408Z",
          "shell.execute_reply": "2024-06-06T07:40:49.944037Z"
        },
        "trusted": true,
        "id": "9p4p2Wt3nBfR"
      },
      "execution_count": null,
      "outputs": []
    },
    {
      "cell_type": "code",
      "source": [
        "predict_and_plot(test.iloc[1].img_path)"
      ],
      "metadata": {
        "execution": {
          "iopub.status.busy": "2024-06-06T07:40:49.94621Z",
          "iopub.execute_input": "2024-06-06T07:40:49.946523Z",
          "iopub.status.idle": "2024-06-06T07:40:50.362546Z",
          "shell.execute_reply.started": "2024-06-06T07:40:49.946496Z",
          "shell.execute_reply": "2024-06-06T07:40:50.361563Z"
        },
        "trusted": true,
        "id": "vpbtRT4tnBfS"
      },
      "execution_count": null,
      "outputs": []
    },
    {
      "cell_type": "code",
      "source": [
        "predict_and_plot(test.iloc[2].img_path)"
      ],
      "metadata": {
        "execution": {
          "iopub.status.busy": "2024-06-06T07:40:50.363891Z",
          "iopub.execute_input": "2024-06-06T07:40:50.364261Z",
          "iopub.status.idle": "2024-06-06T07:40:50.717218Z",
          "shell.execute_reply.started": "2024-06-06T07:40:50.364228Z",
          "shell.execute_reply": "2024-06-06T07:40:50.716015Z"
        },
        "trusted": true,
        "id": "y-jEH4B5nBfS"
      },
      "execution_count": null,
      "outputs": []
    },
    {
      "cell_type": "code",
      "source": [],
      "metadata": {
        "id": "4eJijRZKnBfS"
      },
      "execution_count": null,
      "outputs": []
    }
  ]
}